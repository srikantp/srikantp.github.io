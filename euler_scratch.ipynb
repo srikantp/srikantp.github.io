{
  "nbformat": 4,
  "nbformat_minor": 0,
  "metadata": {
    "colab": {
      "provenance": [],
      "authorship_tag": "ABX9TyMcxQWlDUXoZ99UL8xlEDZk",
      "include_colab_link": true
    },
    "kernelspec": {
      "name": "python3",
      "display_name": "Python 3"
    },
    "language_info": {
      "name": "python"
    }
  },
  "cells": [
    {
      "cell_type": "markdown",
      "metadata": {
        "id": "view-in-github",
        "colab_type": "text"
      },
      "source": [
        "<a href=\"https://colab.research.google.com/github/srikantp/srikantp.github.io/blob/main/euler_scratch.ipynb\" target=\"_parent\"><img src=\"https://colab.research.google.com/assets/colab-badge.svg\" alt=\"Open In Colab\"/></a>"
      ]
    },
    {
      "cell_type": "markdown",
      "source": [
        "<p>Find the sum of all the multiples of $3$ or $5$ below $1000$.</p>"
      ],
      "metadata": {
        "id": "AaWOf4i7gsQz"
      }
    },
    {
      "cell_type": "code",
      "source": [
        "sum ( [ i if i%3==0 or i%5==0 else 0 for i in range(1000)] )"
      ],
      "metadata": {
        "colab": {
          "base_uri": "https://localhost:8080/"
        },
        "id": "7Pr0ZNU8g2BE",
        "outputId": "a5f875e3-3998-474c-97a8-eb93d7fe881b"
      },
      "execution_count": null,
      "outputs": [
        {
          "output_type": "execute_result",
          "data": {
            "text/plain": [
              "233168"
            ]
          },
          "metadata": {},
          "execution_count": 11
        }
      ]
    },
    {
      "cell_type": "markdown",
      "source": [
        "<p>By considering the terms in the Fibonacci sequence whose values do not exceed four million, find the sum of the even-valued terms.</p>"
      ],
      "metadata": {
        "id": "1rUAIbjOijGN"
      }
    },
    {
      "cell_type": "code",
      "source": [
        "i, j, s = 1,2, 0\n",
        "\n",
        "while (j<4e6):\n",
        "  i,j = j, i+j\n",
        "  if i%2 ==0:\n",
        "    s+=i\n",
        "\n",
        "print(s)"
      ],
      "metadata": {
        "colab": {
          "base_uri": "https://localhost:8080/"
        },
        "id": "ucczUInEimw7",
        "outputId": "c04e747e-6f91-4bec-f435-2cdbc8952fce"
      },
      "execution_count": null,
      "outputs": [
        {
          "output_type": "stream",
          "name": "stdout",
          "text": [
            "4613732\n"
          ]
        }
      ]
    },
    {
      "cell_type": "markdown",
      "source": [
        "<p>What is the largest prime factor of the number $600851475143$?</p>"
      ],
      "metadata": {
        "id": "NhGvlNzilZW6"
      }
    },
    {
      "cell_type": "code",
      "source": [
        "n = 600851475143\n",
        "\n",
        "#n = 60\n",
        "\n",
        "def prime_Factorize(n):\n",
        "  t = n\n",
        "  # build a dictionary of factors\n",
        "  f = {}\n",
        "  i =2\n",
        "  while (t!=1):\n",
        "    while t % i == 0:\n",
        "      if i in f:\n",
        "        f[i] = f[i]+1\n",
        "      else:\n",
        "        f[i]=1\n",
        "      t = t/i\n",
        "    i = i + 1\n",
        "\n",
        "# print (i)\n",
        "  return f\n",
        "\n",
        "# print (prime_Factorize(n))\n",
        "print (max([ k for k in prime_Factorize(n)]) )"
      ],
      "metadata": {
        "colab": {
          "base_uri": "https://localhost:8080/"
        },
        "id": "0WVJPsTalj9y",
        "outputId": "b9cefda3-48c0-4df5-9bef-8f066a201c2c"
      },
      "execution_count": null,
      "outputs": [
        {
          "output_type": "stream",
          "name": "stdout",
          "text": [
            "6857\n"
          ]
        }
      ]
    },
    {
      "cell_type": "markdown",
      "source": [
        "<p>Find the largest palindrome made from the product of two $3$-digit numbers.</p>"
      ],
      "metadata": {
        "id": "UuD1pQJIqtHT"
      }
    },
    {
      "cell_type": "code",
      "source": [
        "maxpal = -1\n",
        "\n",
        "for i in range(100,1000):\n",
        "  for j in range(100,1000):\n",
        "    t = i * j\n",
        "\n",
        "    if t > maxpal :\n",
        "      s =str(t)\n",
        "      n = len(s)\n",
        "      halfn = int(n/2)\n",
        "      isPal = True\n",
        "      for k in range(halfn):\n",
        "        if s[k] != s[n-1-k]:\n",
        "          isPal = False\n",
        "          break\n",
        "      if isPal :\n",
        "        if t > maxpal:\n",
        "          maxpal = t\n",
        "\n",
        "print ( maxpal)"
      ],
      "metadata": {
        "colab": {
          "base_uri": "https://localhost:8080/"
        },
        "id": "B8SOONj3quqS",
        "outputId": "a82be53a-f241-45ab-a931-bf1ceb577ace"
      },
      "execution_count": null,
      "outputs": [
        {
          "output_type": "stream",
          "name": "stdout",
          "text": [
            "906609\n"
          ]
        }
      ]
    },
    {
      "cell_type": "markdown",
      "source": [
        "<p>What is the smallest positive number that is evenly divisible by all of the numbers from $1$ to $20$?</p>"
      ],
      "metadata": {
        "id": "KaImqg7ptgiZ"
      }
    },
    {
      "cell_type": "code",
      "source": [
        "import math\n",
        "\n",
        "N = 20 +1\n",
        "nums = [ i for i in range(2,N )]\n",
        "\n",
        "def is_prime(x):\n",
        "  if ( x==2 or x == 3):\n",
        "    return True\n",
        "  if (x % 6 == 0 or x % 6 == 2 or x % 6 == 3 or x % 6 == 4):\n",
        "    return False\n",
        "  is_prime = True\n",
        "  for i in range (2, int(math.sqrt(x))+1 ):\n",
        "    if x % i == 0 :\n",
        "      return False\n",
        "  return True\n",
        "\n",
        "p = 1\n",
        "for i in nums:\n",
        "  if is_prime(i):\n",
        "    k =  i ** int(math.log(N,i))\n",
        "    p = p* k\n",
        "\n",
        "print(p)"
      ],
      "metadata": {
        "colab": {
          "base_uri": "https://localhost:8080/"
        },
        "id": "9PBwX357t66r",
        "outputId": "6f7e6c59-b33b-480f-ef1f-be7457d97b52"
      },
      "execution_count": null,
      "outputs": [
        {
          "output_type": "stream",
          "name": "stdout",
          "text": [
            "232792560\n"
          ]
        }
      ]
    },
    {
      "cell_type": "markdown",
      "source": [
        "<p>Find the difference between the sum of the squares of the first one hundred natural numbers and the square of the sum.</p>"
      ],
      "metadata": {
        "id": "QaALMryx0Tu2"
      }
    },
    {
      "cell_type": "code",
      "source": [
        "s0, s1, s2 = 0 , 0, 0\n",
        "for i in range(100+1):\n",
        "  s0 += 1\n",
        "  s1 += i\n",
        "  s2 += i*i\n",
        "\n",
        "print (s2 - s1*s1)"
      ],
      "metadata": {
        "colab": {
          "base_uri": "https://localhost:8080/"
        },
        "id": "kVWSv1NF0ZR-",
        "outputId": "ca7af298-ce97-4efe-e6e5-9123eb37852c"
      },
      "execution_count": null,
      "outputs": [
        {
          "output_type": "stream",
          "name": "stdout",
          "text": [
            "-25164150\n"
          ]
        }
      ]
    },
    {
      "cell_type": "markdown",
      "source": [
        "<p>What is the $10\\,001$st prime number?</p>"
      ],
      "metadata": {
        "id": "cX88qiaK1Q-X"
      }
    },
    {
      "cell_type": "code",
      "source": [
        "n = 0\n",
        "\n",
        "i =2\n",
        "while True:\n",
        "  if is_prime(i):\n",
        "    n = n +1\n",
        "    if n == 10001:\n",
        "      break\n",
        "  i = i +1\n",
        "\n",
        "print(i)"
      ],
      "metadata": {
        "colab": {
          "base_uri": "https://localhost:8080/"
        },
        "id": "lJcGmRMR1K6f",
        "outputId": "47b5b033-fb4a-48bf-d4cf-61e56e4e31b4"
      },
      "execution_count": null,
      "outputs": [
        {
          "output_type": "stream",
          "name": "stdout",
          "text": [
            "104743\n"
          ]
        }
      ]
    },
    {
      "cell_type": "markdown",
      "source": [
        "Find the thirteen adjacent digits in the -digit number that have the greatest product. What is the value of this product?"
      ],
      "metadata": {
        "id": "HZJaZJG12SeO"
      }
    },
    {
      "cell_type": "code",
      "source": [
        "s=\"\"\"73167176531330624919225119674426574742355349194934\n",
        "96983520312774506326239578318016984801869478851843\n",
        "85861560789112949495459501737958331952853208805511\n",
        "12540698747158523863050715693290963295227443043557\n",
        "66896648950445244523161731856403098711121722383113\n",
        "62229893423380308135336276614282806444486645238749\n",
        "30358907296290491560440772390713810515859307960866\n",
        "70172427121883998797908792274921901699720888093776\n",
        "65727333001053367881220235421809751254540594752243\n",
        "52584907711670556013604839586446706324415722155397\n",
        "53697817977846174064955149290862569321978468622482\n",
        "83972241375657056057490261407972968652414535100474\n",
        "82166370484403199890008895243450658541227588666881\n",
        "16427171479924442928230863465674813919123162824586\n",
        "17866458359124566529476545682848912883142607690042\n",
        "24219022671055626321111109370544217506941658960408\n",
        "07198403850962455444362981230987879927244284909188\n",
        "84580156166097919133875499200524063689912560717606\n",
        "05886116467109405077541002256983155200055935729725\n",
        "71636269561882670428252483600823257530420752963450\"\"\"\n",
        "\n",
        "s= s.replace(\"\\n\", \"\")\n",
        "\n",
        "maxprod = -1\n",
        "loc = -1\n",
        "\n",
        "i=0\n",
        "while i < len(s)-12:\n",
        "  prod = 1\n",
        "  if s[i+12] == \"0\" :\n",
        "    i = i + 13\n",
        "#   print (i, \"jump\")\n",
        "  else:\n",
        "    for j in range(i,i+13):\n",
        "      prod = prod * int(s[j])\n",
        "    if prod > maxprod:\n",
        "      maxprod = prod\n",
        "      loc = i\n",
        "    i = i +1\n",
        "\n",
        "print (s[loc:loc+13] , maxprod)\n"
      ],
      "metadata": {
        "colab": {
          "base_uri": "https://localhost:8080/"
        },
        "id": "NnEtgfEJ1Ql2",
        "outputId": "e6d84509-be9d-4369-ef3e-7a76552c6abb"
      },
      "execution_count": null,
      "outputs": [
        {
          "output_type": "stream",
          "name": "stdout",
          "text": [
            "5576689664895 23514624000\n"
          ]
        }
      ]
    },
    {
      "cell_type": "markdown",
      "source": [
        "<p>There exists exactly one Pythagorean triplet for which $a + b + c = 1000$.<br>Find the product $abc$.</p>"
      ],
      "metadata": {
        "id": "9fha8wiQ6mg1"
      }
    },
    {
      "cell_type": "code",
      "source": [
        "#wlog a < b < c\n",
        "\n",
        "N = 1000\n",
        "\n",
        "breakOuter = False\n",
        "for a in range(1,int(N/3)+1):\n",
        "  if breakOuter:\n",
        "    break\n",
        "  for b in range(a+1,int((N-a)/2)+1):\n",
        "    c = N - a - b\n",
        "    if (c * c == a*a + b*b  ):\n",
        "      print (a,b,c)\n",
        "      print (a*b*c)\n",
        "      breakOuter = True\n",
        "      break"
      ],
      "metadata": {
        "colab": {
          "base_uri": "https://localhost:8080/"
        },
        "id": "EaApFL046lzQ",
        "outputId": "d9a4475c-0db7-465f-cabe-2f2f66c167e5"
      },
      "execution_count": null,
      "outputs": [
        {
          "output_type": "stream",
          "name": "stdout",
          "text": [
            "200 375 425\n",
            "31875000\n"
          ]
        }
      ]
    },
    {
      "cell_type": "markdown",
      "source": [
        "Find the sum of all the primes below two million."
      ],
      "metadata": {
        "id": "vak56rIc-fL8"
      }
    },
    {
      "cell_type": "code",
      "source": [
        "i = 3\n",
        "s=2\n",
        "\n",
        "while (i < 2e6):\n",
        "  if is_prime(i):\n",
        "    s+=i\n",
        "  i = i + 2\n",
        "\n",
        "print(s)\n"
      ],
      "metadata": {
        "colab": {
          "base_uri": "https://localhost:8080/"
        },
        "id": "irFJcVRQ-jm_",
        "outputId": "174e00c1-f52b-416a-eccd-7cf6ec78e01c"
      },
      "execution_count": null,
      "outputs": [
        {
          "output_type": "stream",
          "name": "stdout",
          "text": [
            "142913828922\n"
          ]
        }
      ]
    },
    {
      "cell_type": "code",
      "source": [
        "primes = [2,3,5]\n",
        "\n",
        "i =6\n",
        "while ( i< 2e6):\n",
        "  isP = True\n",
        "  for p in primes:\n",
        "    if p*p > i :\n",
        "      break\n",
        "    if i%p == 0 :\n",
        "      isP = False\n",
        "      break\n",
        "  if isP:\n",
        "    primes.append(i)\n",
        "  i = i + 1\n",
        "\n",
        "print(sum(primes))"
      ],
      "metadata": {
        "colab": {
          "base_uri": "https://localhost:8080/"
        },
        "id": "9hpUprRW_pyM",
        "outputId": "a0261abd-d092-4ede-ffab-2880c5ac3513"
      },
      "execution_count": null,
      "outputs": [
        {
          "output_type": "stream",
          "name": "stdout",
          "text": [
            "142913828922\n"
          ]
        }
      ]
    },
    {
      "cell_type": "markdown",
      "source": [
        "<p>What is the greatest product of four adjacent numbers in the same direction (up, down, left, right, or diagonally) in the $20 \\times 20$ grid?</p>"
      ],
      "metadata": {
        "id": "t2RIIgv8EvXn"
      }
    },
    {
      "cell_type": "code",
      "source": [
        "grid = \"\"\"\n",
        "08 02 22 97 38 15 00 40 00 75 04 05 07 78 52 12 50 77 91 08\n",
        "49 49 99 40 17 81 18 57 60 87 17 40 98 43 69 48 04 56 62 00\n",
        "81 49 31 73 55 79 14 29 93 71 40 67 53 88 30 03 49 13 36 65\n",
        "52 70 95 23 04 60 11 42 69 24 68 56 01 32 56 71 37 02 36 91\n",
        "22 31 16 71 51 67 63 89 41 92 36 54 22 40 40 28 66 33 13 80\n",
        "24 47 32 60 99 03 45 02 44 75 33 53 78 36 84 20 35 17 12 50\n",
        "32 98 81 28 64 23 67 10 26 38 40 67 59 54 70 66 18 38 64 70\n",
        "67 26 20 68 02 62 12 20 95 63 94 39 63 08 40 91 66 49 94 21\n",
        "24 55 58 05 66 73 99 26 97 17 78 78 96 83 14 88 34 89 63 72\n",
        "21 36 23 09 75 00 76 44 20 45 35 14 00 61 33 97 34 31 33 95\n",
        "78 17 53 28 22 75 31 67 15 94 03 80 04 62 16 14 09 53 56 92\n",
        "16 39 05 42 96 35 31 47 55 58 88 24 00 17 54 24 36 29 85 57\n",
        "86 56 00 48 35 71 89 07 05 44 44 37 44 60 21 58 51 54 17 58\n",
        "19 80 81 68 05 94 47 69 28 73 92 13 86 52 17 77 04 89 55 40\n",
        "04 52 08 83 97 35 99 16 07 97 57 32 16 26 26 79 33 27 98 66\n",
        "88 36 68 87 57 62 20 72 03 46 33 67 46 55 12 32 63 93 53 69\n",
        "04 42 16 73 38 25 39 11 24 94 72 18 08 46 29 32 40 62 76 36\n",
        "20 69 36 41 72 30 23 88 34 62 99 69 82 67 59 85 74 04 36 16\n",
        "20 73 35 29 78 31 90 01 74 31 49 71 48 86 81 16 23 57 05 54\n",
        "01 70 54 71 83 51 54 69 16 92 33 48 61 43 52 01 89 19 67 48\"\"\"\n",
        "\n",
        "a = [ int(s) for s in grid.split() ]\n",
        "a_mat = []\n",
        "for i in range(20):\n",
        "  a_mat.append( a[i*20:i*20+20])\n",
        "\n",
        "maxprod = -1\n",
        "\n",
        "for i in range(20):\n",
        "  for j in range(20):\n",
        "    #se\n",
        "    if i+3 < 20 and j+3 < 20 :\n",
        "      p =a_mat[i][j] * a_mat[i+1][j+1] * a_mat[i+2][j+2] * a_mat[i+3][j+3]\n",
        "      if p > maxprod :\n",
        "        maxprod = p\n",
        "    #nw\n",
        "    if i-3 >0 and j-3 >  0 :\n",
        "      p =a_mat[i][j] * a_mat[i-1][j-1] * a_mat[i-2][j-2] * a_mat[i-3][j-3]\n",
        "      if p > maxprod :\n",
        "        maxprod = p\n",
        "    #sw\n",
        "    if i+3 < 20 and j-3 >  0 :\n",
        "      p =a_mat[i][j] * a_mat[i+1][j-1] * a_mat[i+2][j-2] * a_mat[i+3][j-3]\n",
        "      if p > maxprod :\n",
        "        maxprod = p\n",
        "    #ne\n",
        "    if i-3 >0 and j+3 < 20 :\n",
        "      p =a_mat[i][j] * a_mat[i-1][j+1] * a_mat[i-2][j+2] * a_mat[i-3][j+3]\n",
        "      if p > maxprod :\n",
        "        maxprod = p\n",
        "\n",
        "print(maxprod)\n"
      ],
      "metadata": {
        "colab": {
          "base_uri": "https://localhost:8080/"
        },
        "id": "ux5NtWkZFB2E",
        "outputId": "5fa8fb92-b04b-437c-da69-763233fb28d4"
      },
      "execution_count": null,
      "outputs": [
        {
          "output_type": "stream",
          "name": "stdout",
          "text": [
            "70600674\n"
          ]
        }
      ]
    },
    {
      "cell_type": "markdown",
      "source": [
        "<p>What is the value of the first triangle number to have over five hundred divisors?</p>"
      ],
      "metadata": {
        "id": "lTMQHqsVKE_r"
      }
    },
    {
      "cell_type": "code",
      "source": [
        "s = 0\n",
        "n = 0\n",
        "\n",
        "while True:\n",
        "  n = n +1\n",
        "  s = s+ n\n",
        "  d = prime_Factorize(s)\n",
        "  nFactors = 1\n",
        "  for t in d :\n",
        "    nFactors = nFactors* ( d[t] + 1 )\n",
        "\n",
        "  if nFactors > 500:\n",
        "    print( s)\n",
        "    break"
      ],
      "metadata": {
        "colab": {
          "base_uri": "https://localhost:8080/"
        },
        "id": "JTbuN2vHKWNi",
        "outputId": "71f50774-d404-4d4b-e5fb-851795b89ee2"
      },
      "execution_count": null,
      "outputs": [
        {
          "output_type": "stream",
          "name": "stdout",
          "text": [
            "76576500\n"
          ]
        }
      ]
    },
    {
      "cell_type": "markdown",
      "source": [
        "<p>Work out the first ten digits of the sum of the following one-hundred $50$-digit numbers.</p>"
      ],
      "metadata": {
        "id": "WNLu8UCzNTyR"
      }
    },
    {
      "cell_type": "code",
      "source": [
        "s = \"\"\"37107287533902102798797998220837590246510135740250\n",
        "46376937677490009712648124896970078050417018260538\n",
        "74324986199524741059474233309513058123726617309629\n",
        "91942213363574161572522430563301811072406154908250\n",
        "23067588207539346171171980310421047513778063246676\n",
        "89261670696623633820136378418383684178734361726757\n",
        "28112879812849979408065481931592621691275889832738\n",
        "44274228917432520321923589422876796487670272189318\n",
        "47451445736001306439091167216856844588711603153276\n",
        "70386486105843025439939619828917593665686757934951\n",
        "62176457141856560629502157223196586755079324193331\n",
        "64906352462741904929101432445813822663347944758178\n",
        "92575867718337217661963751590579239728245598838407\n",
        "58203565325359399008402633568948830189458628227828\n",
        "80181199384826282014278194139940567587151170094390\n",
        "35398664372827112653829987240784473053190104293586\n",
        "86515506006295864861532075273371959191420517255829\n",
        "71693888707715466499115593487603532921714970056938\n",
        "54370070576826684624621495650076471787294438377604\n",
        "53282654108756828443191190634694037855217779295145\n",
        "36123272525000296071075082563815656710885258350721\n",
        "45876576172410976447339110607218265236877223636045\n",
        "17423706905851860660448207621209813287860733969412\n",
        "81142660418086830619328460811191061556940512689692\n",
        "51934325451728388641918047049293215058642563049483\n",
        "62467221648435076201727918039944693004732956340691\n",
        "15732444386908125794514089057706229429197107928209\n",
        "55037687525678773091862540744969844508330393682126\n",
        "18336384825330154686196124348767681297534375946515\n",
        "80386287592878490201521685554828717201219257766954\n",
        "78182833757993103614740356856449095527097864797581\n",
        "16726320100436897842553539920931837441497806860984\n",
        "48403098129077791799088218795327364475675590848030\n",
        "87086987551392711854517078544161852424320693150332\n",
        "59959406895756536782107074926966537676326235447210\n",
        "69793950679652694742597709739166693763042633987085\n",
        "41052684708299085211399427365734116182760315001271\n",
        "65378607361501080857009149939512557028198746004375\n",
        "35829035317434717326932123578154982629742552737307\n",
        "94953759765105305946966067683156574377167401875275\n",
        "88902802571733229619176668713819931811048770190271\n",
        "25267680276078003013678680992525463401061632866526\n",
        "36270218540497705585629946580636237993140746255962\n",
        "24074486908231174977792365466257246923322810917141\n",
        "91430288197103288597806669760892938638285025333403\n",
        "34413065578016127815921815005561868836468420090470\n",
        "23053081172816430487623791969842487255036638784583\n",
        "11487696932154902810424020138335124462181441773470\n",
        "63783299490636259666498587618221225225512486764533\n",
        "67720186971698544312419572409913959008952310058822\n",
        "95548255300263520781532296796249481641953868218774\n",
        "76085327132285723110424803456124867697064507995236\n",
        "37774242535411291684276865538926205024910326572967\n",
        "23701913275725675285653248258265463092207058596522\n",
        "29798860272258331913126375147341994889534765745501\n",
        "18495701454879288984856827726077713721403798879715\n",
        "38298203783031473527721580348144513491373226651381\n",
        "34829543829199918180278916522431027392251122869539\n",
        "40957953066405232632538044100059654939159879593635\n",
        "29746152185502371307642255121183693803580388584903\n",
        "41698116222072977186158236678424689157993532961922\n",
        "62467957194401269043877107275048102390895523597457\n",
        "23189706772547915061505504953922979530901129967519\n",
        "86188088225875314529584099251203829009407770775672\n",
        "11306739708304724483816533873502340845647058077308\n",
        "82959174767140363198008187129011875491310547126581\n",
        "97623331044818386269515456334926366572897563400500\n",
        "42846280183517070527831839425882145521227251250327\n",
        "55121603546981200581762165212827652751691296897789\n",
        "32238195734329339946437501907836945765883352399886\n",
        "75506164965184775180738168837861091527357929701337\n",
        "62177842752192623401942399639168044983993173312731\n",
        "32924185707147349566916674687634660915035914677504\n",
        "99518671430235219628894890102423325116913619626622\n",
        "73267460800591547471830798392868535206946944540724\n",
        "76841822524674417161514036427982273348055556214818\n",
        "97142617910342598647204516893989422179826088076852\n",
        "87783646182799346313767754307809363333018982642090\n",
        "10848802521674670883215120185883543223812876952786\n",
        "71329612474782464538636993009049310363619763878039\n",
        "62184073572399794223406235393808339651327408011116\n",
        "66627891981488087797941876876144230030984490851411\n",
        "60661826293682836764744779239180335110989069790714\n",
        "85786944089552990653640447425576083659976645795096\n",
        "66024396409905389607120198219976047599490197230297\n",
        "64913982680032973156037120041377903785566085089252\n",
        "16730939319872750275468906903707539413042652315011\n",
        "94809377245048795150954100921645863754710598436791\n",
        "78639167021187492431995700641917969777599028300699\n",
        "15368713711936614952811305876380278410754449733078\n",
        "40789923115535562561142322423255033685442488917353\n",
        "44889911501440648020369068063960672322193204149535\n",
        "41503128880339536053299340368006977710650566631954\n",
        "81234880673210146739058568557934581403627822703280\n",
        "82616570773948327592232845941706525094512325230608\n",
        "22918802058777319719839450180888072429661980811197\n",
        "77158542502016545090413245809786882778948721859617\n",
        "72107838435069186155435662884062257473692284509516\n",
        "20849603980134001723930671666823555245252804609722\n",
        "53503534226472524250874054075591789781264330331690\"\"\"\n",
        "\n",
        "nums = s.split()\n",
        "\n",
        "tot = 0\n",
        "for num in nums:\n",
        "  tot += int(num)\n",
        "\n",
        "g= str(tot)\n",
        "print(g[0:10])"
      ],
      "metadata": {
        "colab": {
          "base_uri": "https://localhost:8080/"
        },
        "id": "-odbGG3ANieY",
        "outputId": "93331619-3a20-49b3-b158-25ca2dfb705b"
      },
      "execution_count": null,
      "outputs": [
        {
          "output_type": "stream",
          "name": "stdout",
          "text": [
            "5537376230390876637302048746832985971773659831892672\n",
            "5537376230\n"
          ]
        }
      ]
    },
    {
      "cell_type": "markdown",
      "source": [
        "<p>Which starting number, under one million, produces the longest collatz chain?</p>"
      ],
      "metadata": {
        "id": "8DuaHKikP1nz"
      }
    },
    {
      "cell_type": "code",
      "source": [
        "def len_collatz(x):\n",
        "  n = 1\n",
        "  while x != 1 :\n",
        "    x = x/2 if x%2 == 0 else 3*x+1\n",
        "    n = n + 1\n",
        "  return n\n",
        "\n",
        "maxlen = 1\n",
        "loc = -1\n",
        "\n",
        "for i in range(1,int(1e6)):\n",
        "  l = len_collatz(i)\n",
        "  if l > maxlen:\n",
        "    loc = i\n",
        "    maxlen = l\n",
        "\n",
        "print (loc, maxlen)\n"
      ],
      "metadata": {
        "colab": {
          "base_uri": "https://localhost:8080/"
        },
        "id": "589uVR2kQPxx",
        "outputId": "f543833b-c12d-4b8f-a79c-484868abfdb8"
      },
      "execution_count": null,
      "outputs": [
        {
          "output_type": "stream",
          "name": "stdout",
          "text": [
            "837799 525\n"
          ]
        }
      ]
    },
    {
      "cell_type": "code",
      "source": [
        "#memoize\n",
        "\n",
        "d = {}\n",
        "d[1] = 1\n",
        "\n",
        "for i in range (1,1000):\n",
        "  d[i] = len_collatz(i)\n",
        "\n",
        "def len_collatz(x):\n",
        "  n = 1\n",
        "  while x != 1 :\n",
        "    x = x/2 if x%2 == 0 else 3*x+1\n",
        "    if x in d :\n",
        "      n = n + d[x]\n",
        "      break\n",
        "    else:\n",
        "      n = n + 1\n",
        "  return n\n",
        "\n",
        "maxlen = 1\n",
        "loc = -1\n",
        "\n",
        "for i in range(1,int(1e6)):\n",
        "  l = len_collatz(i)\n",
        "  if l > maxlen:\n",
        "    loc = i\n",
        "    maxlen = l\n",
        "\n",
        "print (loc, maxlen)"
      ],
      "metadata": {
        "colab": {
          "base_uri": "https://localhost:8080/"
        },
        "id": "aCEfXN0TWFkZ",
        "outputId": "d7314fb5-a5fd-476f-b4a2-0c5bb2c1d17f"
      },
      "execution_count": null,
      "outputs": [
        {
          "output_type": "stream",
          "name": "stdout",
          "text": [
            "837799 525\n"
          ]
        }
      ]
    },
    {
      "cell_type": "markdown",
      "source": [
        "<p>Starting in the top left corner of a $2 \\times 2$ grid, and only being able to move to the right and down, there are exactly $6$ routes to the bottom right corner.</p><p>How many such routes are there through a $20 \\times 20$ grid?</p>"
      ],
      "metadata": {
        "id": "wl_KLOmoY3h3"
      }
    },
    {
      "cell_type": "code",
      "source": [
        "#just a combinatorics problem  ?\n",
        "# C(40,20) = 40! / 20! / 20! gives the answer\n",
        "\n",
        "from math import comb\n",
        "print ( comb(40,20) )\n",
        "\n",
        "def prettyPrintGrid(grid, n):\n",
        "  for i in range(n):\n",
        "    print( grid[i])\n",
        "\n",
        "# build out grid\n",
        "\n",
        "N= 21\n",
        "# grid =[[0]*N]*N\n",
        "grid = []\n",
        "for i in range (N):\n",
        "  grid.append( [0]*N )\n",
        "for i in range(N):\n",
        "  grid[i][N-1] = 1\n",
        "  grid[N-1][i] = 1\n",
        "\n",
        "for i in range(N-2,-1,-1):\n",
        "  for j in range(N-2,-1,-1):\n",
        "    grid[i][j] = grid[i+1][j]+grid[i][j+1]\n",
        "\n",
        "#prettyPrintGrid (grid, N)\n",
        "print( grid[0][0])"
      ],
      "metadata": {
        "colab": {
          "base_uri": "https://localhost:8080/"
        },
        "id": "N8s-FCFnZHxO",
        "outputId": "3d476e1c-5738-4336-9e03-8cc51e2eaa2d"
      },
      "execution_count": null,
      "outputs": [
        {
          "output_type": "stream",
          "name": "stdout",
          "text": [
            "137846528820\n",
            "137846528820\n"
          ]
        }
      ]
    },
    {
      "cell_type": "markdown",
      "source": [
        "<p>What is the sum of the digits of the number $2^{1000}$?</p>"
      ],
      "metadata": {
        "id": "_UsnvVkhi7wa"
      }
    },
    {
      "cell_type": "code",
      "source": [
        "n = 2**1000\n",
        "s = str(n)\n",
        "print ( sum ( int(t) for t in s ))"
      ],
      "metadata": {
        "colab": {
          "base_uri": "https://localhost:8080/"
        },
        "id": "ezoy5Oj6i6nE",
        "outputId": "f7456bdf-213f-4b42-db31-a6e8a4e021aa"
      },
      "execution_count": null,
      "outputs": [
        {
          "output_type": "stream",
          "name": "stdout",
          "text": [
            "1366\n"
          ]
        }
      ]
    },
    {
      "cell_type": "markdown",
      "source": [
        "<p>If all the numbers from $1$ to $1000$ (one thousand) inclusive were written out in words, how many letters would be used? </p>"
      ],
      "metadata": {
        "id": "PJ6EKu1okPeS"
      }
    },
    {
      "cell_type": "code",
      "source": [
        "ones = [\"\", \"one\", \"two\", \"three\", \"four\", \"five\", \"six\", \"seven\", \"eight\", \"nine\", \"ten\", \\\n",
        "        \"eleven\", \"twelve\", \"thirteen\", \"fourteen\", \"fifteen\", \"sixteen\", \"seventeen\", \"eighteen\", \"nineteen\" ]\n",
        "tens = [\"\", \"\", \"twenty\", \"thirty\", \"forty\", \"fifty\", \"sixty\", \"seventy\", \"eighty\", \"ninety\" ]\n",
        "\n",
        "def numtowords(n):\n",
        "  if n == 0:\n",
        "    return \"\"\n",
        "  if n < 20:\n",
        "    return ones[n]\n",
        "  if n < 100:\n",
        "    a = tens[int(n/10)]\n",
        "    b = ones[n%10]\n",
        "    return a+( \"\" if n%10==0 else \"-\"+ b )\n",
        "  if n < 1000:\n",
        "    return ones[ int(n/100)] + \" hundred\" + (\"\" if n%100 == 0 else \" and \" + numtowords(n%100))\n",
        "  if n < 10000:\n",
        "    return ones[ int(n/1000)] + \" thousand\" + (\"\" if n%1000 == 0 else \" \" + numtowords(n%1000))\n",
        "\n",
        "t=0\n",
        "for i in range(1,1001):\n",
        "  s = numtowords(i)\n",
        "  #print(s)\n",
        "  s = s.replace(\" \",\"\")\n",
        "  s = s.replace(\"-\",\"\")\n",
        "  t += len(s)\n",
        "\n",
        "print(t)\n"
      ],
      "metadata": {
        "colab": {
          "base_uri": "https://localhost:8080/"
        },
        "id": "qy6J7SD5koMN",
        "outputId": "e4e1c2fb-f436-49f1-c5fd-f83c7750aab6"
      },
      "execution_count": null,
      "outputs": [
        {
          "output_type": "stream",
          "name": "stdout",
          "text": [
            "21124\n"
          ]
        }
      ]
    },
    {
      "cell_type": "markdown",
      "source": [
        "<p>Find the maximum total from top to bottom of the triangle below:</p>"
      ],
      "metadata": {
        "id": "H0QRhv17wIw5"
      }
    },
    {
      "cell_type": "code",
      "source": [
        "grid = \"\"\"75\n",
        "95 64\n",
        "17 47 82\n",
        "18 35 87 10\n",
        "20 04 82 47 65\n",
        "19 01 23 75 03 34\n",
        "88 02 77 73 07 63 67\n",
        "99 65 04 28 06 16 70 92\n",
        "41 41 26 56 83 40 80 70 33\n",
        "41 48 72 33 47 32 37 16 94 29\n",
        "53 71 44 65 25 43 91 52 97 51 14\n",
        "70 11 33 28 77 73 17 78 39 68 17 57\n",
        "91 71 52 38 17 14 91 43 58 50 27 29 48\n",
        "63 66 04 68 89 53 67 30 73 16 69 87 40 31\n",
        "04 62 98 27 23 09 70 98 73 93 38 53 60 04 23\"\"\"\n",
        "\n",
        "triangle = []\n",
        "lPath = []\n",
        "for row in grid.split(\"\\n\"):\n",
        "  triangle.append([int(x) for x in row.split()])\n",
        "  lPath.append( [ -1 for x in row.split() ])\n",
        "\n",
        "N = len(lPath)\n",
        "for j in range(N):\n",
        "  lPath[N-1][j] = triangle[N-1][j]\n",
        "\n",
        "for i in range(N-2,-1,-1):\n",
        "  for j in range(i+1):\n",
        "    lPath[i][j] = triangle[i][j] + max(lPath[i+1][j], lPath[i+1][j+1])\n",
        "\n",
        "print (lPath[0][0])"
      ],
      "metadata": {
        "colab": {
          "base_uri": "https://localhost:8080/"
        },
        "id": "u9WHDQeiwT3_",
        "outputId": "d11f6faa-82dd-46d0-c937-43b5d3f83269"
      },
      "execution_count": null,
      "outputs": [
        {
          "output_type": "stream",
          "name": "stdout",
          "text": [
            "1074\n"
          ]
        }
      ]
    },
    {
      "cell_type": "markdown",
      "source": [
        "</ul><p>How many Sundays fell on the first of the month during the twentieth century (1 Jan 1901 to 31 Dec 2000)?</p>"
      ],
      "metadata": {
        "id": "2ltBj2ez3Nl2"
      }
    },
    {
      "cell_type": "code",
      "source": [
        "mthdays = [ 31, 28, 31, 30, 31, 30, 31, 31, 30, 31, 30 , 31]\n",
        "\n",
        "class dateclass:\n",
        "  def __init__(self):\n",
        "    self.year = 1900\n",
        "    self.month = 1\n",
        "    self.day = 1\n",
        "    self.weekday = 1 # sun == 0\n",
        "\n",
        "  def increment(self):\n",
        "    isLY = False\n",
        "    if self.year % 4 == 0 :\n",
        "      isLY = True\n",
        "      if self.year % 100 == 0 and self.year % 400 != 0 :\n",
        "        isLY = False\n",
        "\n",
        "    daysinyr = 366 if isLY else 365\n",
        "    mthdays[1] = 29 if isLY else 28\n",
        "\n",
        "    if self.month == 12 and self.day == 31:\n",
        "      self.year +=1\n",
        "      self.month = 1\n",
        "      self.day = 1\n",
        "    elif mthdays[self.month-1] == self.day:\n",
        "      self.month += 1\n",
        "      self.day = 1\n",
        "    else:\n",
        "      self.day += 1\n",
        "    self.weekday = (self.weekday+1)%7\n",
        "\n",
        "  def printdt(self):\n",
        "    print(\"Today is \" , self.weekday , \" \" , self.year , \" \" , self.month , \" \" , self.day )\n",
        "\n",
        "dt = dateclass()\n",
        "\n",
        "cnt =0\n",
        "while True:\n",
        "  if dt.year == 1901 and dt.month == 1 and dt.day == 1:\n",
        "    cnt = 0\n",
        "  if dt.day == 1 and dt.weekday == 0:\n",
        "    cnt += 1\n",
        "  dt.increment()\n",
        "  if dt.year == 2001:\n",
        "    break\n",
        "\n",
        "print(cnt)\n",
        "\n"
      ],
      "metadata": {
        "id": "LgTYqvOE3n8W",
        "colab": {
          "base_uri": "https://localhost:8080/"
        },
        "outputId": "9dbb0094-0ce2-46d5-fcfa-7aeb892951fc"
      },
      "execution_count": null,
      "outputs": [
        {
          "output_type": "stream",
          "name": "stdout",
          "text": [
            "171\n"
          ]
        }
      ]
    },
    {
      "cell_type": "markdown",
      "source": [
        "<p>Find the sum of the digits in the number $100!$.</p>"
      ],
      "metadata": {
        "id": "cnS9_MRpUIa1"
      }
    },
    {
      "cell_type": "code",
      "source": [
        "import math\n",
        "\n",
        "print( sum( int(x) for x in str(math.factorial(100)) ) )"
      ],
      "metadata": {
        "colab": {
          "base_uri": "https://localhost:8080/"
        },
        "id": "AlfnOgzkUJ4_",
        "outputId": "d7e4c048-9802-4338-c195-ac16aa382095"
      },
      "execution_count": null,
      "outputs": [
        {
          "output_type": "stream",
          "name": "stdout",
          "text": [
            "648\n"
          ]
        }
      ]
    },
    {
      "cell_type": "markdown",
      "source": [
        "<p>Evaluate the sum of all the amicable numbers under $10000$.</p>"
      ],
      "metadata": {
        "id": "SEzLQSnjVRmM"
      }
    },
    {
      "cell_type": "code",
      "source": [
        "import math\n",
        "def sumProperDivisors(n):\n",
        "  f = 1\n",
        "  for i in range(2,int(math.sqrt(n))+1):\n",
        "    if n%i == 0:\n",
        "      f += i\n",
        "      if i*i != n :\n",
        "        f += (n/i)\n",
        "  return (f)\n",
        "\n",
        "t = 0\n",
        "for i in range(2,10000):\n",
        "  a= sumProperDivisors(i)\n",
        "  if i < 10000:\n",
        "    b = sumProperDivisors(a)\n",
        "  if i == b and i != a :\n",
        "    t += i\n",
        "\n",
        "print(t)\n"
      ],
      "metadata": {
        "colab": {
          "base_uri": "https://localhost:8080/"
        },
        "id": "-IiWOeBaVTJU",
        "outputId": "ff06538b-11be-418b-b24a-f08ed78d9323"
      },
      "execution_count": 31,
      "outputs": [
        {
          "output_type": "stream",
          "name": "stdout",
          "text": [
            "31626\n"
          ]
        }
      ]
    },
    {
      "cell_type": "markdown",
      "source": [
        "<p>What is the total of all the name scores in the file?</p>\n",
        "\n",
        "https://saturncloud.io/blog/how-to-use-google-colab-to-work-with-local-files/"
      ],
      "metadata": {
        "id": "rJNKXKclYdIM"
      }
    },
    {
      "cell_type": "code",
      "source": [
        "with open('0022_names.txt', 'r') as f:\n",
        "    s= f.read()\n",
        "\n",
        "s= s.replace(\"\\\"\",\"\")\n",
        "words = s.split(\",\")\n",
        "words.sort()\n",
        "\n",
        "def vval(n):\n",
        "  return sum ((ord(x)-ord('A')+1) for x in n )\n",
        "\n",
        "print(vval(\"COLIN\"))\n",
        "\n",
        "i = 0\n",
        "tot = 0\n",
        "for w in words:\n",
        "  i = i+1\n",
        "  tot += i * vval(w)\n",
        "\n",
        "print(tot)"
      ],
      "metadata": {
        "colab": {
          "base_uri": "https://localhost:8080/"
        },
        "id": "yJ2Wj618Y4ct",
        "outputId": "e4ab05de-0a8d-459a-a67b-0abeffff1a54"
      },
      "execution_count": 8,
      "outputs": [
        {
          "output_type": "stream",
          "name": "stdout",
          "text": [
            "53\n",
            "871198282\n"
          ]
        }
      ]
    },
    {
      "cell_type": "markdown",
      "source": [
        "<p>Find the sum of all the positive integers which cannot be written as the sum of two abundant numbers.</p>"
      ],
      "metadata": {
        "id": "QIRY8sahQqIp"
      }
    },
    {
      "cell_type": "code",
      "source": [
        "import math\n",
        "\n",
        "N = 30000\n",
        "t = 0\n",
        "\n",
        "isAbundantSum = [0]*(N)\n",
        "\n",
        "abundant = []\n",
        "for i in range(2,N):\n",
        "  if sumProperDivisors(i) > i :\n",
        "    abundant.append(i)\n",
        "    for y in abundant:\n",
        "      if i + y < N:\n",
        "        isAbundantSum[i+y] = i+y\n",
        "      else:\n",
        "        break\n",
        "\n",
        "print ( (N-1)*N/2 - sum(isAbundantSum))\n"
      ],
      "metadata": {
        "colab": {
          "base_uri": "https://localhost:8080/"
        },
        "id": "ByIFmXcuRPTR",
        "outputId": "bc011af7-78f9-451c-f1e6-5e13b0ba21bf"
      },
      "execution_count": 47,
      "outputs": [
        {
          "output_type": "stream",
          "name": "stdout",
          "text": [
            "4179871.0\n"
          ]
        }
      ]
    },
    {
      "cell_type": "markdown",
      "source": [
        "<p>What is the millionth lexicographic permutation of the digits 0, 1, 2, 3, 4, 5, 6, 7, 8 and 9?</p>"
      ],
      "metadata": {
        "id": "1PK7AhLKhLgl"
      }
    },
    {
      "cell_type": "code",
      "source": [
        "s = \"0123456789\"\n",
        "s= \"012\"\n",
        "\n",
        "def nextPerm(s):\n",
        "  n=len(s)\n",
        "  i = n-1\n",
        "  while i > 0 and s[i-1] > s[i] :\n",
        "    i = i -1\n",
        "  if ( i == 0 ):\n",
        "    raise Exception(\"End reached!!\")\n",
        "  else:\n",
        "    tmp = s[i-1]+s[i+1:n]\n",
        "    nxt = s[0:i-1] + s[i] + \"\".join ( sorted([x for x in tmp]))\n",
        "    return nxt\n",
        "\n",
        "while True:\n",
        "  try:\n",
        "    s=nextPerm(s)\n",
        "    print(s)\n",
        "  except:\n",
        "    break\n",
        "\n",
        ""
      ],
      "metadata": {
        "colab": {
          "base_uri": "https://localhost:8080/"
        },
        "id": "G8440P1lhScc",
        "outputId": "02b7958d-28d5-4036-bc32-9d04bcbcd0de"
      },
      "execution_count": 14,
      "outputs": [
        {
          "output_type": "stream",
          "name": "stdout",
          "text": [
            "021\n",
            "201\n",
            "210\n"
          ]
        }
      ]
    },
    {
      "cell_type": "code",
      "source": [],
      "metadata": {
        "id": "dqOBURadokST"
      },
      "execution_count": null,
      "outputs": []
    }
  ]
}