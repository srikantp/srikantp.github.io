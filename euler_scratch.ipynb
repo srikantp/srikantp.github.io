{
  "nbformat": 4,
  "nbformat_minor": 0,
  "metadata": {
    "colab": {
      "provenance": [],
      "authorship_tag": "ABX9TyNW8RzCW1u/fL1ufGA/AoCE",
      "include_colab_link": true
    },
    "kernelspec": {
      "name": "python3",
      "display_name": "Python 3"
    },
    "language_info": {
      "name": "python"
    }
  },
  "cells": [
    {
      "cell_type": "markdown",
      "metadata": {
        "id": "view-in-github",
        "colab_type": "text"
      },
      "source": [
        "<a href=\"https://colab.research.google.com/github/srikantp/srikantp.github.io/blob/main/euler_scratch.ipynb\" target=\"_parent\"><img src=\"https://colab.research.google.com/assets/colab-badge.svg\" alt=\"Open In Colab\"/></a>"
      ]
    },
    {
      "cell_type": "markdown",
      "source": [
        "<p>Find the sum of all the multiples of $3$ or $5$ below $1000$.</p>"
      ],
      "metadata": {
        "id": "AaWOf4i7gsQz"
      }
    },
    {
      "cell_type": "code",
      "source": [
        "sum ( [ i if i%3==0 or i%5==0 else 0 for i in range(1000)] )"
      ],
      "metadata": {
        "colab": {
          "base_uri": "https://localhost:8080/"
        },
        "id": "7Pr0ZNU8g2BE",
        "outputId": "a5f875e3-3998-474c-97a8-eb93d7fe881b"
      },
      "execution_count": 11,
      "outputs": [
        {
          "output_type": "execute_result",
          "data": {
            "text/plain": [
              "233168"
            ]
          },
          "metadata": {},
          "execution_count": 11
        }
      ]
    },
    {
      "cell_type": "markdown",
      "source": [
        "<p>By considering the terms in the Fibonacci sequence whose values do not exceed four million, find the sum of the even-valued terms.</p>"
      ],
      "metadata": {
        "id": "1rUAIbjOijGN"
      }
    },
    {
      "cell_type": "code",
      "source": [
        "i, j, s = 1,2, 0\n",
        "\n",
        "while (j<4e6):\n",
        "  i,j = j, i+j\n",
        "  if i%2 ==0:\n",
        "    s+=i\n",
        "\n",
        "print(s)"
      ],
      "metadata": {
        "colab": {
          "base_uri": "https://localhost:8080/"
        },
        "id": "ucczUInEimw7",
        "outputId": "c04e747e-6f91-4bec-f435-2cdbc8952fce"
      },
      "execution_count": 23,
      "outputs": [
        {
          "output_type": "stream",
          "name": "stdout",
          "text": [
            "4613732\n"
          ]
        }
      ]
    },
    {
      "cell_type": "markdown",
      "source": [
        "<p>What is the largest prime factor of the number $600851475143$?</p>"
      ],
      "metadata": {
        "id": "NhGvlNzilZW6"
      }
    },
    {
      "cell_type": "code",
      "source": [
        "n = 600851475143\n",
        "\n",
        "#n = 60\n",
        "\n",
        "def prime_Factorize(n):\n",
        "  t = n\n",
        "  # build a dictionary of factors\n",
        "  f = {}\n",
        "  i =2\n",
        "  while (t!=1):\n",
        "    while t % i == 0:\n",
        "      if i in f:\n",
        "        f[i] = f[i]+1\n",
        "      else:\n",
        "        f[i]=1\n",
        "      t = t/i\n",
        "    i = i + 1\n",
        "\n",
        "# print (i)\n",
        "  return f\n",
        "\n",
        "# print (prime_Factorize(n))\n",
        "print (max([ k for k in prime_Factorize(n)]) )"
      ],
      "metadata": {
        "colab": {
          "base_uri": "https://localhost:8080/"
        },
        "id": "0WVJPsTalj9y",
        "outputId": "b9cefda3-48c0-4df5-9bef-8f066a201c2c"
      },
      "execution_count": 153,
      "outputs": [
        {
          "output_type": "stream",
          "name": "stdout",
          "text": [
            "6857\n"
          ]
        }
      ]
    },
    {
      "cell_type": "markdown",
      "source": [
        "<p>Find the largest palindrome made from the product of two $3$-digit numbers.</p>"
      ],
      "metadata": {
        "id": "UuD1pQJIqtHT"
      }
    },
    {
      "cell_type": "code",
      "source": [
        "maxpal = -1\n",
        "\n",
        "for i in range(100,1000):\n",
        "  for j in range(100,1000):\n",
        "    t = i * j\n",
        "\n",
        "    if t > maxpal :\n",
        "      s =str(t)\n",
        "      n = len(s)\n",
        "      halfn = int(n/2)\n",
        "      isPal = True\n",
        "      for k in range(halfn):\n",
        "        if s[k] != s[n-1-k]:\n",
        "          isPal = False\n",
        "          break\n",
        "      if isPal :\n",
        "        if t > maxpal:\n",
        "          maxpal = t\n",
        "\n",
        "print ( maxpal)"
      ],
      "metadata": {
        "colab": {
          "base_uri": "https://localhost:8080/"
        },
        "id": "B8SOONj3quqS",
        "outputId": "a82be53a-f241-45ab-a931-bf1ceb577ace"
      },
      "execution_count": 60,
      "outputs": [
        {
          "output_type": "stream",
          "name": "stdout",
          "text": [
            "906609\n"
          ]
        }
      ]
    },
    {
      "cell_type": "markdown",
      "source": [
        "<p>What is the smallest positive number that is evenly divisible by all of the numbers from $1$ to $20$?</p>"
      ],
      "metadata": {
        "id": "KaImqg7ptgiZ"
      }
    },
    {
      "cell_type": "code",
      "source": [
        "import math\n",
        "\n",
        "N = 20 +1\n",
        "nums = [ i for i in range(2,N )]\n",
        "\n",
        "def is_prime(x):\n",
        "  if ( x==2 or x == 3):\n",
        "    return True\n",
        "  if (x % 6 == 0 or x % 6 == 2 or x % 6 == 3 or x % 6 == 4):\n",
        "    return False\n",
        "  is_prime = True\n",
        "  for i in range (2, int(math.sqrt(x))+1 ):\n",
        "    if x % i == 0 :\n",
        "      return False\n",
        "  return True\n",
        "\n",
        "p = 1\n",
        "for i in nums:\n",
        "  if is_prime(i):\n",
        "    k =  i ** int(math.log(N,i))\n",
        "    p = p* k\n",
        "\n",
        "print(p)"
      ],
      "metadata": {
        "colab": {
          "base_uri": "https://localhost:8080/"
        },
        "id": "9PBwX357t66r",
        "outputId": "6f7e6c59-b33b-480f-ef1f-be7457d97b52"
      },
      "execution_count": 75,
      "outputs": [
        {
          "output_type": "stream",
          "name": "stdout",
          "text": [
            "232792560\n"
          ]
        }
      ]
    },
    {
      "cell_type": "markdown",
      "source": [
        "<p>Find the difference between the sum of the squares of the first one hundred natural numbers and the square of the sum.</p>"
      ],
      "metadata": {
        "id": "QaALMryx0Tu2"
      }
    },
    {
      "cell_type": "code",
      "source": [
        "s0, s1, s2 = 0 , 0, 0\n",
        "for i in range(100+1):\n",
        "  s0 += 1\n",
        "  s1 += i\n",
        "  s2 += i*i\n",
        "\n",
        "print (s2 - s1*s1)"
      ],
      "metadata": {
        "colab": {
          "base_uri": "https://localhost:8080/"
        },
        "id": "kVWSv1NF0ZR-",
        "outputId": "ca7af298-ce97-4efe-e6e5-9123eb37852c"
      },
      "execution_count": 76,
      "outputs": [
        {
          "output_type": "stream",
          "name": "stdout",
          "text": [
            "-25164150\n"
          ]
        }
      ]
    },
    {
      "cell_type": "markdown",
      "source": [
        "<p>What is the $10\\,001$st prime number?</p>"
      ],
      "metadata": {
        "id": "cX88qiaK1Q-X"
      }
    },
    {
      "cell_type": "code",
      "source": [
        "n = 0\n",
        "\n",
        "i =2\n",
        "while True:\n",
        "  if is_prime(i):\n",
        "    n = n +1\n",
        "    if n == 10001:\n",
        "      break\n",
        "  i = i +1\n",
        "\n",
        "print(i)"
      ],
      "metadata": {
        "colab": {
          "base_uri": "https://localhost:8080/"
        },
        "id": "lJcGmRMR1K6f",
        "outputId": "47b5b033-fb4a-48bf-d4cf-61e56e4e31b4"
      },
      "execution_count": 79,
      "outputs": [
        {
          "output_type": "stream",
          "name": "stdout",
          "text": [
            "104743\n"
          ]
        }
      ]
    },
    {
      "cell_type": "markdown",
      "source": [
        "Find the thirteen adjacent digits in the -digit number that have the greatest product. What is the value of this product?"
      ],
      "metadata": {
        "id": "HZJaZJG12SeO"
      }
    },
    {
      "cell_type": "code",
      "source": [
        "s=\"\"\"73167176531330624919225119674426574742355349194934\n",
        "96983520312774506326239578318016984801869478851843\n",
        "85861560789112949495459501737958331952853208805511\n",
        "12540698747158523863050715693290963295227443043557\n",
        "66896648950445244523161731856403098711121722383113\n",
        "62229893423380308135336276614282806444486645238749\n",
        "30358907296290491560440772390713810515859307960866\n",
        "70172427121883998797908792274921901699720888093776\n",
        "65727333001053367881220235421809751254540594752243\n",
        "52584907711670556013604839586446706324415722155397\n",
        "53697817977846174064955149290862569321978468622482\n",
        "83972241375657056057490261407972968652414535100474\n",
        "82166370484403199890008895243450658541227588666881\n",
        "16427171479924442928230863465674813919123162824586\n",
        "17866458359124566529476545682848912883142607690042\n",
        "24219022671055626321111109370544217506941658960408\n",
        "07198403850962455444362981230987879927244284909188\n",
        "84580156166097919133875499200524063689912560717606\n",
        "05886116467109405077541002256983155200055935729725\n",
        "71636269561882670428252483600823257530420752963450\"\"\"\n",
        "\n",
        "s= s.replace(\"\\n\", \"\")\n",
        "\n",
        "maxprod = -1\n",
        "loc = -1\n",
        "\n",
        "i=0\n",
        "while i < len(s)-12:\n",
        "  prod = 1\n",
        "  if s[i+12] == \"0\" :\n",
        "    i = i + 13\n",
        "#   print (i, \"jump\")\n",
        "  else:\n",
        "    for j in range(i,i+13):\n",
        "      prod = prod * int(s[j])\n",
        "    if prod > maxprod:\n",
        "      maxprod = prod\n",
        "      loc = i\n",
        "    i = i +1\n",
        "\n",
        "print (s[loc:loc+13] , maxprod)\n",
        ""
      ],
      "metadata": {
        "colab": {
          "base_uri": "https://localhost:8080/"
        },
        "id": "NnEtgfEJ1Ql2",
        "outputId": "e6d84509-be9d-4369-ef3e-7a76552c6abb"
      },
      "execution_count": 95,
      "outputs": [
        {
          "output_type": "stream",
          "name": "stdout",
          "text": [
            "5576689664895 23514624000\n"
          ]
        }
      ]
    },
    {
      "cell_type": "markdown",
      "source": [
        "<p>There exists exactly one Pythagorean triplet for which $a + b + c = 1000$.<br>Find the product $abc$.</p>"
      ],
      "metadata": {
        "id": "9fha8wiQ6mg1"
      }
    },
    {
      "cell_type": "code",
      "source": [
        "#wlog a < b < c\n",
        "\n",
        "N = 1000\n",
        "\n",
        "breakOuter = False\n",
        "for a in range(1,int(N/3)+1):\n",
        "  if breakOuter:\n",
        "    break\n",
        "  for b in range(a+1,int((N-a)/2)+1):\n",
        "    c = N - a - b\n",
        "    if (c * c == a*a + b*b  ):\n",
        "      print (a,b,c)\n",
        "      print (a*b*c)\n",
        "      breakOuter = True\n",
        "      break"
      ],
      "metadata": {
        "colab": {
          "base_uri": "https://localhost:8080/"
        },
        "id": "EaApFL046lzQ",
        "outputId": "d9a4475c-0db7-465f-cabe-2f2f66c167e5"
      },
      "execution_count": 109,
      "outputs": [
        {
          "output_type": "stream",
          "name": "stdout",
          "text": [
            "200 375 425\n",
            "31875000\n"
          ]
        }
      ]
    },
    {
      "cell_type": "markdown",
      "source": [
        "Find the sum of all the primes below two million."
      ],
      "metadata": {
        "id": "vak56rIc-fL8"
      }
    },
    {
      "cell_type": "code",
      "source": [
        "i = 3\n",
        "s=2\n",
        "\n",
        "while (i < 2e6):\n",
        "  if is_prime(i):\n",
        "    s+=i\n",
        "  i = i + 2\n",
        "\n",
        "print(s)\n"
      ],
      "metadata": {
        "colab": {
          "base_uri": "https://localhost:8080/"
        },
        "id": "irFJcVRQ-jm_",
        "outputId": "174e00c1-f52b-416a-eccd-7cf6ec78e01c"
      },
      "execution_count": 132,
      "outputs": [
        {
          "output_type": "stream",
          "name": "stdout",
          "text": [
            "142913828922\n"
          ]
        }
      ]
    },
    {
      "cell_type": "code",
      "source": [
        "primes = [2,3,5]\n",
        "\n",
        "i =6\n",
        "while ( i< 2e6):\n",
        "  isP = True\n",
        "  for p in primes:\n",
        "    if p*p > i :\n",
        "      break\n",
        "    if i%p == 0 :\n",
        "      isP = False\n",
        "      break\n",
        "  if isP:\n",
        "    primes.append(i)\n",
        "  i = i + 1\n",
        "\n",
        "print(sum(primes))"
      ],
      "metadata": {
        "colab": {
          "base_uri": "https://localhost:8080/"
        },
        "id": "9hpUprRW_pyM",
        "outputId": "a0261abd-d092-4ede-ffab-2880c5ac3513"
      },
      "execution_count": 131,
      "outputs": [
        {
          "output_type": "stream",
          "name": "stdout",
          "text": [
            "142913828922\n"
          ]
        }
      ]
    },
    {
      "cell_type": "markdown",
      "source": [
        "<p>What is the greatest product of four adjacent numbers in the same direction (up, down, left, right, or diagonally) in the $20 \\times 20$ grid?</p>"
      ],
      "metadata": {
        "id": "t2RIIgv8EvXn"
      }
    },
    {
      "cell_type": "code",
      "source": [
        "grid = \"\"\"\n",
        "08 02 22 97 38 15 00 40 00 75 04 05 07 78 52 12 50 77 91 08\n",
        "49 49 99 40 17 81 18 57 60 87 17 40 98 43 69 48 04 56 62 00\n",
        "81 49 31 73 55 79 14 29 93 71 40 67 53 88 30 03 49 13 36 65\n",
        "52 70 95 23 04 60 11 42 69 24 68 56 01 32 56 71 37 02 36 91\n",
        "22 31 16 71 51 67 63 89 41 92 36 54 22 40 40 28 66 33 13 80\n",
        "24 47 32 60 99 03 45 02 44 75 33 53 78 36 84 20 35 17 12 50\n",
        "32 98 81 28 64 23 67 10 26 38 40 67 59 54 70 66 18 38 64 70\n",
        "67 26 20 68 02 62 12 20 95 63 94 39 63 08 40 91 66 49 94 21\n",
        "24 55 58 05 66 73 99 26 97 17 78 78 96 83 14 88 34 89 63 72\n",
        "21 36 23 09 75 00 76 44 20 45 35 14 00 61 33 97 34 31 33 95\n",
        "78 17 53 28 22 75 31 67 15 94 03 80 04 62 16 14 09 53 56 92\n",
        "16 39 05 42 96 35 31 47 55 58 88 24 00 17 54 24 36 29 85 57\n",
        "86 56 00 48 35 71 89 07 05 44 44 37 44 60 21 58 51 54 17 58\n",
        "19 80 81 68 05 94 47 69 28 73 92 13 86 52 17 77 04 89 55 40\n",
        "04 52 08 83 97 35 99 16 07 97 57 32 16 26 26 79 33 27 98 66\n",
        "88 36 68 87 57 62 20 72 03 46 33 67 46 55 12 32 63 93 53 69\n",
        "04 42 16 73 38 25 39 11 24 94 72 18 08 46 29 32 40 62 76 36\n",
        "20 69 36 41 72 30 23 88 34 62 99 69 82 67 59 85 74 04 36 16\n",
        "20 73 35 29 78 31 90 01 74 31 49 71 48 86 81 16 23 57 05 54\n",
        "01 70 54 71 83 51 54 69 16 92 33 48 61 43 52 01 89 19 67 48\"\"\"\n",
        "\n",
        "a = [ int(s) for s in grid.split() ]\n",
        "a_mat = []\n",
        "for i in range(20):\n",
        "  a_mat.append( a[i*20:i*20+20])\n",
        "\n",
        "maxprod = -1\n",
        "\n",
        "for i in range(20):\n",
        "  for j in range(20):\n",
        "    #se\n",
        "    if i+3 < 20 and j+3 < 20 :\n",
        "      p =a_mat[i][j] * a_mat[i+1][j+1] * a_mat[i+2][j+2] * a_mat[i+3][j+3]\n",
        "      if p > maxprod :\n",
        "        maxprod = p\n",
        "    #nw\n",
        "    if i-3 >0 and j-3 >  0 :\n",
        "      p =a_mat[i][j] * a_mat[i-1][j-1] * a_mat[i-2][j-2] * a_mat[i-3][j-3]\n",
        "      if p > maxprod :\n",
        "        maxprod = p\n",
        "    #sw\n",
        "    if i+3 < 20 and j-3 >  0 :\n",
        "      p =a_mat[i][j] * a_mat[i+1][j-1] * a_mat[i+2][j-2] * a_mat[i+3][j-3]\n",
        "      if p > maxprod :\n",
        "        maxprod = p\n",
        "    #ne\n",
        "    if i-3 >0 and j+3 < 20 :\n",
        "      p =a_mat[i][j] * a_mat[i-1][j+1] * a_mat[i-2][j+2] * a_mat[i-3][j+3]\n",
        "      if p > maxprod :\n",
        "        maxprod = p\n",
        "\n",
        "print(maxprod)\n"
      ],
      "metadata": {
        "colab": {
          "base_uri": "https://localhost:8080/"
        },
        "id": "ux5NtWkZFB2E",
        "outputId": "5fa8fb92-b04b-437c-da69-763233fb28d4"
      },
      "execution_count": 141,
      "outputs": [
        {
          "output_type": "stream",
          "name": "stdout",
          "text": [
            "70600674\n"
          ]
        }
      ]
    },
    {
      "cell_type": "markdown",
      "source": [
        "<p>What is the value of the first triangle number to have over five hundred divisors?</p>"
      ],
      "metadata": {
        "id": "lTMQHqsVKE_r"
      }
    },
    {
      "cell_type": "code",
      "source": [
        "s = 0\n",
        "n = 0\n",
        "\n",
        "while True:\n",
        "  n = n +1\n",
        "  s = s+ n\n",
        "  d = prime_Factorize(s)\n",
        "  nFactors = 1\n",
        "  for t in d :\n",
        "    nFactors = nFactors* ( d[t] + 1 )\n",
        "\n",
        "  if nFactors > 500:\n",
        "    print( s)\n",
        "    break"
      ],
      "metadata": {
        "colab": {
          "base_uri": "https://localhost:8080/"
        },
        "id": "JTbuN2vHKWNi",
        "outputId": "71f50774-d404-4d4b-e5fb-851795b89ee2"
      },
      "execution_count": 155,
      "outputs": [
        {
          "output_type": "stream",
          "name": "stdout",
          "text": [
            "76576500\n"
          ]
        }
      ]
    }
  ]
}