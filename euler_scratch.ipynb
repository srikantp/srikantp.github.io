{
  "nbformat": 4,
  "nbformat_minor": 0,
  "metadata": {
    "colab": {
      "provenance": [],
      "authorship_tag": "ABX9TyNV2sPGZ8xyAV1zv2djp60t",
      "include_colab_link": true
    },
    "kernelspec": {
      "name": "python3",
      "display_name": "Python 3"
    },
    "language_info": {
      "name": "python"
    }
  },
  "cells": [
    {
      "cell_type": "markdown",
      "metadata": {
        "id": "view-in-github",
        "colab_type": "text"
      },
      "source": [
        "<a href=\"https://colab.research.google.com/github/srikantp/srikantp.github.io/blob/main/euler_scratch.ipynb\" target=\"_parent\"><img src=\"https://colab.research.google.com/assets/colab-badge.svg\" alt=\"Open In Colab\"/></a>"
      ]
    },
    {
      "cell_type": "markdown",
      "source": [
        "<p>Find the sum of all the multiples of $3$ or $5$ below $1000$.</p>"
      ],
      "metadata": {
        "id": "AaWOf4i7gsQz"
      }
    },
    {
      "cell_type": "code",
      "source": [
        "sum ( [ i if i%3==0 or i%5==0 else 0 for i in range(1000)] )"
      ],
      "metadata": {
        "colab": {
          "base_uri": "https://localhost:8080/"
        },
        "id": "7Pr0ZNU8g2BE",
        "outputId": "a5f875e3-3998-474c-97a8-eb93d7fe881b"
      },
      "execution_count": 11,
      "outputs": [
        {
          "output_type": "execute_result",
          "data": {
            "text/plain": [
              "233168"
            ]
          },
          "metadata": {},
          "execution_count": 11
        }
      ]
    },
    {
      "cell_type": "markdown",
      "source": [
        "<p>By considering the terms in the Fibonacci sequence whose values do not exceed four million, find the sum of the even-valued terms.</p>"
      ],
      "metadata": {
        "id": "1rUAIbjOijGN"
      }
    },
    {
      "cell_type": "code",
      "source": [
        "i, j, s = 1,2, 0\n",
        "\n",
        "while (j<4e6):\n",
        "  i,j = j, i+j\n",
        "  if i%2 ==0:\n",
        "    s+=i\n",
        "\n",
        "print(s)"
      ],
      "metadata": {
        "colab": {
          "base_uri": "https://localhost:8080/"
        },
        "id": "ucczUInEimw7",
        "outputId": "c04e747e-6f91-4bec-f435-2cdbc8952fce"
      },
      "execution_count": 23,
      "outputs": [
        {
          "output_type": "stream",
          "name": "stdout",
          "text": [
            "4613732\n"
          ]
        }
      ]
    },
    {
      "cell_type": "markdown",
      "source": [
        "<p>What is the largest prime factor of the number $600851475143$?</p>"
      ],
      "metadata": {
        "id": "NhGvlNzilZW6"
      }
    },
    {
      "cell_type": "code",
      "source": [
        "n = 600851475143\n",
        "\n",
        "#n = 60\n",
        "\n",
        "def prime_Factorize(n):\n",
        "  t = n\n",
        "  # build a dictionary of factors\n",
        "  f = {}\n",
        "  i =2\n",
        "  while (t!=1):\n",
        "    if (i*i > t):\n",
        "      f[t]=1\n",
        "      break\n",
        "    while t % i == 0:\n",
        "      if i in f:\n",
        "        f[i] = f[i]\n",
        "      else:\n",
        "        f[i]=1\n",
        "      t = t/i\n",
        "    i = i + 1\n",
        "\n",
        "# print (i)\n",
        "  return f\n",
        "\n",
        "# print (prime_Factorize(n))\n",
        "print (max([ k for k in prime_Factorize(n)]) )"
      ],
      "metadata": {
        "colab": {
          "base_uri": "https://localhost:8080/"
        },
        "id": "0WVJPsTalj9y",
        "outputId": "96ceca01-e694-4e3a-ca34-2b0344451d23"
      },
      "execution_count": 51,
      "outputs": [
        {
          "output_type": "stream",
          "name": "stdout",
          "text": [
            "6857.0\n"
          ]
        }
      ]
    },
    {
      "cell_type": "markdown",
      "source": [
        "<p>Find the largest palindrome made from the product of two $3$-digit numbers.</p>"
      ],
      "metadata": {
        "id": "UuD1pQJIqtHT"
      }
    },
    {
      "cell_type": "code",
      "source": [
        "maxpal = -1\n",
        "\n",
        "for i in range(100,1000):\n",
        "  for j in range(100,1000):\n",
        "    t = i * j\n",
        "\n",
        "    if t > maxpal :\n",
        "      s =str(t)\n",
        "      n = len(s)\n",
        "      halfn = int(n/2)\n",
        "      isPal = True\n",
        "      for k in range(halfn):\n",
        "        if s[k] != s[n-1-k]:\n",
        "          isPal = False\n",
        "          break\n",
        "      if isPal :\n",
        "        if t > maxpal:\n",
        "          maxpal = t\n",
        "\n",
        "print ( maxpal)"
      ],
      "metadata": {
        "colab": {
          "base_uri": "https://localhost:8080/"
        },
        "id": "B8SOONj3quqS",
        "outputId": "a82be53a-f241-45ab-a931-bf1ceb577ace"
      },
      "execution_count": 60,
      "outputs": [
        {
          "output_type": "stream",
          "name": "stdout",
          "text": [
            "906609\n"
          ]
        }
      ]
    },
    {
      "cell_type": "markdown",
      "source": [
        "<p>What is the smallest positive number that is evenly divisible by all of the numbers from $1$ to $20$?</p>"
      ],
      "metadata": {
        "id": "KaImqg7ptgiZ"
      }
    },
    {
      "cell_type": "code",
      "source": [
        "import math\n",
        "\n",
        "N = 20 +1\n",
        "nums = [ i for i in range(2,N )]\n",
        "\n",
        "def is_prime(x):\n",
        "  if ( x==2 or x == 3):\n",
        "    return True\n",
        "  if (x % 6 == 0 or x % 6 == 2 or x % 6 == 3 or x % 6 == 4):\n",
        "    return False\n",
        "  is_prime = True\n",
        "  for i in range (2, int(math.sqrt(x))+1 ):\n",
        "    if x % i == 0 :\n",
        "      return False\n",
        "  return True\n",
        "\n",
        "p = 1\n",
        "for i in nums:\n",
        "  if is_prime(i):\n",
        "    k =  i ** int(math.log(N,i))\n",
        "    p = p* k\n",
        "\n",
        "print(p)"
      ],
      "metadata": {
        "colab": {
          "base_uri": "https://localhost:8080/"
        },
        "id": "9PBwX357t66r",
        "outputId": "6f7e6c59-b33b-480f-ef1f-be7457d97b52"
      },
      "execution_count": 75,
      "outputs": [
        {
          "output_type": "stream",
          "name": "stdout",
          "text": [
            "232792560\n"
          ]
        }
      ]
    },
    {
      "cell_type": "markdown",
      "source": [
        "<p>Find the difference between the sum of the squares of the first one hundred natural numbers and the square of the sum.</p>"
      ],
      "metadata": {
        "id": "QaALMryx0Tu2"
      }
    },
    {
      "cell_type": "code",
      "source": [
        "s0, s1, s2 = 0 , 0, 0\n",
        "for i in range(100+1):\n",
        "  s0 += 1\n",
        "  s1 += i\n",
        "  s2 += i*i\n",
        "\n",
        "print (s2 - s1*s1)"
      ],
      "metadata": {
        "colab": {
          "base_uri": "https://localhost:8080/"
        },
        "id": "kVWSv1NF0ZR-",
        "outputId": "ca7af298-ce97-4efe-e6e5-9123eb37852c"
      },
      "execution_count": 76,
      "outputs": [
        {
          "output_type": "stream",
          "name": "stdout",
          "text": [
            "-25164150\n"
          ]
        }
      ]
    },
    {
      "cell_type": "markdown",
      "source": [
        "<p>What is the $10\\,001$st prime number?</p>"
      ],
      "metadata": {
        "id": "cX88qiaK1Q-X"
      }
    },
    {
      "cell_type": "code",
      "source": [
        "n = 0\n",
        "\n",
        "i =2\n",
        "while True:\n",
        "  if is_prime(i):\n",
        "    n = n +1\n",
        "    if n == 10001:\n",
        "      break\n",
        "  i = i +1\n",
        "\n",
        "print(i)"
      ],
      "metadata": {
        "colab": {
          "base_uri": "https://localhost:8080/"
        },
        "id": "lJcGmRMR1K6f",
        "outputId": "47b5b033-fb4a-48bf-d4cf-61e56e4e31b4"
      },
      "execution_count": 79,
      "outputs": [
        {
          "output_type": "stream",
          "name": "stdout",
          "text": [
            "104743\n"
          ]
        }
      ]
    },
    {
      "cell_type": "markdown",
      "source": [
        "Find the thirteen adjacent digits in the -digit number that have the greatest product. What is the value of this product?"
      ],
      "metadata": {
        "id": "HZJaZJG12SeO"
      }
    },
    {
      "cell_type": "code",
      "source": [
        "s=\"\"\"73167176531330624919225119674426574742355349194934\n",
        "96983520312774506326239578318016984801869478851843\n",
        "85861560789112949495459501737958331952853208805511\n",
        "12540698747158523863050715693290963295227443043557\n",
        "66896648950445244523161731856403098711121722383113\n",
        "62229893423380308135336276614282806444486645238749\n",
        "30358907296290491560440772390713810515859307960866\n",
        "70172427121883998797908792274921901699720888093776\n",
        "65727333001053367881220235421809751254540594752243\n",
        "52584907711670556013604839586446706324415722155397\n",
        "53697817977846174064955149290862569321978468622482\n",
        "83972241375657056057490261407972968652414535100474\n",
        "82166370484403199890008895243450658541227588666881\n",
        "16427171479924442928230863465674813919123162824586\n",
        "17866458359124566529476545682848912883142607690042\n",
        "24219022671055626321111109370544217506941658960408\n",
        "07198403850962455444362981230987879927244284909188\n",
        "84580156166097919133875499200524063689912560717606\n",
        "05886116467109405077541002256983155200055935729725\n",
        "71636269561882670428252483600823257530420752963450\"\"\"\n",
        "\n",
        "s= s.replace(\"\\n\", \"\")\n",
        "\n",
        "maxprod = -1\n",
        "loc = -1\n",
        "\n",
        "i=0\n",
        "while i < len(s)-12:\n",
        "  prod = 1\n",
        "  if s[i+12] == \"0\" :\n",
        "    i = i + 13\n",
        "#   print (i, \"jump\")\n",
        "  else:\n",
        "    for j in range(i,i+13):\n",
        "      prod = prod * int(s[j])\n",
        "    if prod > maxprod:\n",
        "      maxprod = prod\n",
        "      loc = i\n",
        "    i = i +1\n",
        "\n",
        "print (s[loc:loc+13] , maxprod)\n",
        ""
      ],
      "metadata": {
        "colab": {
          "base_uri": "https://localhost:8080/"
        },
        "id": "NnEtgfEJ1Ql2",
        "outputId": "e6d84509-be9d-4369-ef3e-7a76552c6abb"
      },
      "execution_count": 95,
      "outputs": [
        {
          "output_type": "stream",
          "name": "stdout",
          "text": [
            "5576689664895 23514624000\n"
          ]
        }
      ]
    },
    {
      "cell_type": "markdown",
      "source": [
        "<p>There exists exactly one Pythagorean triplet for which $a + b + c = 1000$.<br>Find the product $abc$.</p>"
      ],
      "metadata": {
        "id": "9fha8wiQ6mg1"
      }
    },
    {
      "cell_type": "code",
      "source": [
        "#wlog a < b < c\n",
        "\n",
        "N = 1000\n",
        "\n",
        "breakOuter = False\n",
        "for a in range(1,int(N/3)+1):\n",
        "  if breakOuter:\n",
        "    break\n",
        "  for b in range(a+1,int((N-a)/2)+1):\n",
        "    c = N - a - b\n",
        "    if (c * c == a*a + b*b  ):\n",
        "      print (a,b,c)\n",
        "      print (a*b*c)\n",
        "      breakOuter = True\n",
        "      break"
      ],
      "metadata": {
        "colab": {
          "base_uri": "https://localhost:8080/"
        },
        "id": "EaApFL046lzQ",
        "outputId": "d9a4475c-0db7-465f-cabe-2f2f66c167e5"
      },
      "execution_count": 109,
      "outputs": [
        {
          "output_type": "stream",
          "name": "stdout",
          "text": [
            "200 375 425\n",
            "31875000\n"
          ]
        }
      ]
    },
    {
      "cell_type": "markdown",
      "source": [
        "Find the sum of all the primes below two million."
      ],
      "metadata": {
        "id": "vak56rIc-fL8"
      }
    },
    {
      "cell_type": "code",
      "source": [
        "i = 3\n",
        "s=2\n",
        "\n",
        "while (i < 2e6):\n",
        "  if is_prime(i):\n",
        "    s+=i\n",
        "  i = i + 2\n",
        "\n",
        "print(s)\n"
      ],
      "metadata": {
        "colab": {
          "base_uri": "https://localhost:8080/"
        },
        "id": "irFJcVRQ-jm_",
        "outputId": "174e00c1-f52b-416a-eccd-7cf6ec78e01c"
      },
      "execution_count": 132,
      "outputs": [
        {
          "output_type": "stream",
          "name": "stdout",
          "text": [
            "142913828922\n"
          ]
        }
      ]
    },
    {
      "cell_type": "code",
      "source": [
        "primes = [2,3,5]\n",
        "\n",
        "i =6\n",
        "while ( i< 2e6):\n",
        "  isP = True\n",
        "  for p in primes:\n",
        "    if p*p > i :\n",
        "      break\n",
        "    if i%p == 0 :\n",
        "      isP = False\n",
        "      break\n",
        "  if isP:\n",
        "    primes.append(i)\n",
        "  i = i + 1\n",
        "\n",
        "print(sum(primes))"
      ],
      "metadata": {
        "colab": {
          "base_uri": "https://localhost:8080/"
        },
        "id": "9hpUprRW_pyM",
        "outputId": "a0261abd-d092-4ede-ffab-2880c5ac3513"
      },
      "execution_count": 131,
      "outputs": [
        {
          "output_type": "stream",
          "name": "stdout",
          "text": [
            "142913828922\n"
          ]
        }
      ]
    }
  ]
}